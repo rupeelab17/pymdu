{
 "cells": [
  {
   "cell_type": "code",
   "execution_count": 7,
   "id": "d526d3d7",
   "metadata": {},
   "outputs": [],
   "source": [
    "import os
os.environ['USE_PYGEOS'] = '0'
import geopandas as gpd\n",
    "import pandas as pd\n",
    "data = pd.read_csv('windrose_calculation.csv')"
   ]
  },
  {
   "cell_type": "code",
   "execution_count": 12,
   "id": "71f25f1a",
   "metadata": {},
   "outputs": [],
   "source": [
    "create_list = pd.DataFrame()\n",
    "create_list['direction'] = range(0, 355, 10)\n",
    "create_list['vitesse'] = [1 for x in create_list['direction']]"
   ]
  },
  {
   "cell_type": "code",
   "execution_count": 15,
   "id": "60cede13",
   "metadata": {},
   "outputs": [],
   "source": [
    "create_list.to_csv('wind_list.csv')"
   ]
  },
  {
   "cell_type": "code",
   "execution_count": null,
   "id": "cd216990",
   "metadata": {},
   "outputs": [],
   "source": []
  }
 ],
 "metadata": {
  "kernelspec": {
   "display_name": "pymdu",
   "language": "python",
   "name": "pymdu"
  },
  "language_info": {
   "codemirror_mode": {
    "name": "ipython",
    "version": 3
   },
   "file_extension": ".py",
   "mimetype": "text/x-python",
   "name": "python",
   "nbconvert_exporter": "python",
   "pygments_lexer": "ipython3",
   "version": "3.10.8"
  }
 },
 "nbformat": 4,
 "nbformat_minor": 5
}
